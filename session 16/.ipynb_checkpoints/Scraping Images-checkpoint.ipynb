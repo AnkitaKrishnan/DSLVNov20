{
 "cells": [
  {
   "cell_type": "code",
   "execution_count": 1,
   "metadata": {},
   "outputs": [],
   "source": [
    "import requests\n",
    "from bs4 import BeautifulSoup"
   ]
  },
  {
   "cell_type": "code",
   "execution_count": 42,
   "metadata": {},
   "outputs": [],
   "source": [
    "page1_url = \"https://www.passiton.com/inspirational-quotes\"\n",
    "page2_url = \"https://www.passiton.com/inspirational-quotes?page=2\"\n",
    "\n",
    "res = requests.get(page2_url)\n",
    "data = res.content"
   ]
  },
  {
   "cell_type": "code",
   "execution_count": 43,
   "metadata": {},
   "outputs": [],
   "source": [
    "soup = BeautifulSoup(data)"
   ]
  },
  {
   "cell_type": "code",
   "execution_count": 44,
   "metadata": {},
   "outputs": [],
   "source": [
    "div = soup.find(\"div\", attrs={\"id\": \"all_quotes\"})"
   ]
  },
  {
   "cell_type": "code",
   "execution_count": 45,
   "metadata": {},
   "outputs": [],
   "source": [
    "all_imgs = div.find_all('img')"
   ]
  },
  {
   "cell_type": "code",
   "execution_count": 46,
   "metadata": {},
   "outputs": [],
   "source": [
    "src = all_imgs[5].attrs['src']"
   ]
  },
  {
   "cell_type": "code",
   "execution_count": 47,
   "metadata": {},
   "outputs": [],
   "source": [
    "res=requests.get(src)"
   ]
  },
  {
   "cell_type": "code",
   "execution_count": 48,
   "metadata": {},
   "outputs": [],
   "source": [
    "snap = res.content"
   ]
  },
  {
   "cell_type": "code",
   "execution_count": 24,
   "metadata": {},
   "outputs": [],
   "source": [
    "with open(\"inspiration-quote.jpg\", 'wb') as f:\n",
    "    f.write(snap)"
   ]
  },
  {
   "cell_type": "markdown",
   "metadata": {},
   "source": [
    "## for all images"
   ]
  },
  {
   "cell_type": "code",
   "execution_count": 49,
   "metadata": {},
   "outputs": [],
   "source": [
    "for i,one_img in enumerate(all_imgs, start=32):\n",
    "    src = one_img.attrs['src']\n",
    "    res=requests.get(src)\n",
    "    snap = res.content\n",
    "    \n",
    "    with open(f\"images/inspiration-quote-{i+1}.jpg\", 'wb') as f:\n",
    "        f.write(snap)"
   ]
  },
  {
   "cell_type": "code",
   "execution_count": 40,
   "metadata": {},
   "outputs": [],
   "source": [
    "page2_url = \"https://www.passiton.com/inspirational-quotes?page=2\""
   ]
  },
  {
   "cell_type": "markdown",
   "metadata": {},
   "source": [
    "### Extra Python Functions"
   ]
  },
  {
   "cell_type": "code",
   "execution_count": 31,
   "metadata": {},
   "outputs": [
    {
     "name": "stdout",
     "output_type": "stream",
     "text": [
      "inspirational-quotes-1.jpg\n",
      "inspirational-quotes-2.jpg\n",
      "inspirational-quotes-3.jpg\n",
      "inspirational-quotes-4.jpg\n",
      "inspirational-quotes-5.jpg\n",
      "inspirational-quotes-6.jpg\n",
      "inspirational-quotes-7.jpg\n",
      "inspirational-quotes-8.jpg\n",
      "inspirational-quotes-9.jpg\n",
      "inspirational-quotes-10.jpg\n"
     ]
    }
   ],
   "source": [
    "i =1\n",
    "while(i<11):\n",
    "    print(f\"inspirational-quotes-{i}.jpg\")\n",
    "    i+=1"
   ]
  },
  {
   "cell_type": "code",
   "execution_count": 33,
   "metadata": {},
   "outputs": [],
   "source": [
    "l = ['apple', 'mango', 'banana'] "
   ]
  },
  {
   "cell_type": "code",
   "execution_count": 41,
   "metadata": {},
   "outputs": [
    {
     "name": "stdout",
     "output_type": "stream",
     "text": [
      "33 apple\n",
      "34 mango\n",
      "35 banana\n"
     ]
    }
   ],
   "source": [
    "for i, ele in enumerate(l, 32):\n",
    "    print(i, ele)"
   ]
  },
  {
   "cell_type": "code",
   "execution_count": null,
   "metadata": {},
   "outputs": [],
   "source": []
  }
 ],
 "metadata": {
  "kernelspec": {
   "display_name": "Python 3",
   "language": "python",
   "name": "python3"
  },
  "language_info": {
   "codemirror_mode": {
    "name": "ipython",
    "version": 3
   },
   "file_extension": ".py",
   "mimetype": "text/x-python",
   "name": "python",
   "nbconvert_exporter": "python",
   "pygments_lexer": "ipython3",
   "version": "3.8.3"
  }
 },
 "nbformat": 4,
 "nbformat_minor": 4
}
